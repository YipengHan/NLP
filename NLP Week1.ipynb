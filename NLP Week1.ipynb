{
 "cells": [
  {
   "cell_type": "markdown",
   "metadata": {},
   "source": [
    "![discoverready_logo.png](discoverready_logo.png)"
   ]
  },
  {
   "cell_type": "markdown",
   "metadata": {},
   "source": [
    "<h1><center>Shooin Natural Language Processing</center></h1>"
   ]
  },
  {
   "cell_type": "markdown",
   "metadata": {},
   "source": [
    "<h3><center>Yipeng Han</center></h3>"
   ]
  },
  {
   "cell_type": "markdown",
   "metadata": {},
   "source": [
    "### 1. Python Primitive Data Structures / Types"
   ]
  },
  {
   "cell_type": "markdown",
   "metadata": {},
   "source": [
    "In Python, just as other programming language, there are several major data types and each of them plays a really important role in programming.\n",
    "\n",
    "* Integer (1, 2, 3)\n",
    "* Float  (1.1, 2.2, 3.3)\n",
    "* Boolean (True & False)\n",
    "* String ('word')"
   ]
  },
  {
   "cell_type": "code",
   "execution_count": 2,
   "metadata": {
    "ExecuteTime": {
     "end_time": "2018-07-12T21:53:27.817840Z",
     "start_time": "2018-07-12T21:53:27.811887Z"
    }
   },
   "outputs": [
    {
     "data": {
      "text/plain": [
       "int"
      ]
     },
     "execution_count": 2,
     "metadata": {},
     "output_type": "execute_result"
    }
   ],
   "source": [
    "type(1)"
   ]
  },
  {
   "cell_type": "code",
   "execution_count": 8,
   "metadata": {
    "ExecuteTime": {
     "end_time": "2018-07-12T21:53:32.232940Z",
     "start_time": "2018-07-12T21:53:32.225960Z"
    }
   },
   "outputs": [
    {
     "data": {
      "text/plain": [
       "bool"
      ]
     },
     "execution_count": 8,
     "metadata": {},
     "output_type": "execute_result"
    }
   ],
   "source": [
    "type(True)"
   ]
  },
  {
   "cell_type": "markdown",
   "metadata": {},
   "source": [
    "The major data structure of Python are shown below.\n",
    "\n",
    "- List\n",
    "- Tuple\n",
    "- Set\n",
    "- Dictionary"
   ]
  },
  {
   "cell_type": "code",
   "execution_count": 9,
   "metadata": {
    "ExecuteTime": {
     "end_time": "2018-07-12T22:14:38.190348Z",
     "start_time": "2018-07-12T22:14:38.183369Z"
    }
   },
   "outputs": [],
   "source": [
    "# list\n",
    "mylist = [1,2,3]\n",
    "# Tuple\n",
    "mytuple = (1,2,3)\n",
    "# Set\n",
    "myset = {1,2,3}\n",
    "# Dictionary\n",
    "mydict ={'a':1,'b':2}"
   ]
  },
  {
   "cell_type": "markdown",
   "metadata": {
    "ExecuteTime": {
     "end_time": "2018-07-12T22:15:08.393421Z",
     "start_time": "2018-07-12T22:15:08.305012Z"
    }
   },
   "source": [
    " #### <span style=\"color:red\">Important</span>: tuple is immutable list"
   ]
  },
  {
   "cell_type": "markdown",
   "metadata": {
    "ExecuteTime": {
     "end_time": "2018-07-12T22:33:24.950515Z",
     "start_time": "2018-07-12T22:33:24.946527Z"
    }
   },
   "source": [
    " #### <span style=\"color:red\">Important</span>: set contains only unique value"
   ]
  },
  {
   "cell_type": "code",
   "execution_count": null,
   "metadata": {},
   "outputs": [],
   "source": []
  }
 ],
 "metadata": {
  "kernelspec": {
   "display_name": "Python 3",
   "language": "python",
   "name": "python3"
  },
  "language_info": {
   "codemirror_mode": {
    "name": "ipython",
    "version": 3
   },
   "file_extension": ".py",
   "mimetype": "text/x-python",
   "name": "python",
   "nbconvert_exporter": "python",
   "pygments_lexer": "ipython3",
   "version": "3.6.4"
  },
  "latex_envs": {
   "LaTeX_envs_menu_present": true,
   "autoclose": false,
   "autocomplete": true,
   "bibliofile": "biblio.bib",
   "cite_by": "apalike",
   "current_citInitial": 1,
   "eqLabelWithNumbers": true,
   "eqNumInitial": 1,
   "hotkeys": {
    "equation": "Ctrl-E",
    "itemize": "Ctrl-I"
   },
   "labels_anchors": false,
   "latex_user_defs": false,
   "report_style_numbering": false,
   "user_envs_cfg": false
  }
 },
 "nbformat": 4,
 "nbformat_minor": 2
}
